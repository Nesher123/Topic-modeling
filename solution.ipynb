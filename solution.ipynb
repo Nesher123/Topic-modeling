{
 "cells": [
  {
   "cell_type": "markdown",
   "source": [
    "# Introduction\n",
    "\n",
    "This is a home assignment for the role - Data Science. Please follow the instructions:\n",
    "1. The main goal of this assignment is to analyze/extract topics within a huge corpus.\n",
    "2. The primary language to use in this exercise is Python (and its auxiliary packages of your choice) on top of Jupyter Notebook.\n",
    "3. Your code should be research-grade, as detailed below:\n",
    "    a. The code should be reliable (think of the correctness and edge cases).\n",
    "    b. The code should be readable and maintainable.\n",
    "    c. Take (some) memory efficiency into consideration while solving the problem.\n",
    "    d. The data visualization should be functional enough to support the answers.\n",
    "4. The solution should be extensible:\n",
    "    a. Work iteratively within the given time frame to get something before you deepen your research.\n",
    "    b. Think of the step-by-step implementation.\n",
    "    c. Being rigorous is important for the maintenance, correctness, and flexibility of the results, but try to be concise and elegant where possible.\n",
    "5. We value your time. The whole assignment should take roughly 0.5-1 day. If you think it will take longer, please let us know ahead of time.\n",
    "\n",
    "Good Luck!\n",
    "\n",
    "\n",
    "# Objective\n",
    "Analyze a dataset of headlines. First - clean, explore, and tokenize the text. Then, apply common NLP methods used for topic modeling.\n"
   ],
   "metadata": {
    "collapsed": false
   }
  },
  {
   "cell_type": "markdown",
   "source": [
    "---\n",
    "# Part 1 - Data cleaning and exploration\n",
    "1. Load the attached dataset using Pandas.\n",
    "2. Clean and prepare the data for analysis by performing the following tasks:\n",
    "    a. Remove missing values.\n",
    "    b. Handle any outliers present in the data.\n",
    "    c. Convert any non-numeric columns to numeric/date (when possible).\n",
    "    d. Tokenize / clean to your understanding.\n",
    "3. Perform an EDA of your choice to help you understand the data."
   ],
   "metadata": {
    "collapsed": false
   }
  },
  {
   "cell_type": "markdown",
   "source": [
    "## Imports"
   ],
   "metadata": {
    "collapsed": false
   }
  },
  {
   "cell_type": "code",
   "execution_count": 35,
   "outputs": [],
   "source": [
    "import pandas as pd\n",
    "import numpy as np\n",
    "import seaborn as sns\n",
    "import matplotlib.pyplot as plt"
   ],
   "metadata": {
    "collapsed": false
   }
  },
  {
   "cell_type": "markdown",
   "source": [
    "## Constants"
   ],
   "metadata": {
    "collapsed": false
   }
  },
  {
   "cell_type": "code",
   "execution_count": 35,
   "outputs": [],
   "source": [],
   "metadata": {
    "collapsed": false
   }
  },
  {
   "cell_type": "code",
   "execution_count": 72,
   "outputs": [
    {
     "data": {
      "text/plain": "   publish_date                                      headline_text\n0      20030219  aba decides against community broadcasting lic...\n1      20030219     act fire witnesses must be aware of defamation\n2      20030219     a g calls for infrastructure protection summit\n3      20030219           air nz staff in aust strike for pay rise\n4      20030219      air nz strike to affect australian travellers",
      "text/html": "<div>\n<style scoped>\n    .dataframe tbody tr th:only-of-type {\n        vertical-align: middle;\n    }\n\n    .dataframe tbody tr th {\n        vertical-align: top;\n    }\n\n    .dataframe thead th {\n        text-align: right;\n    }\n</style>\n<table border=\"1\" class=\"dataframe\">\n  <thead>\n    <tr style=\"text-align: right;\">\n      <th></th>\n      <th>publish_date</th>\n      <th>headline_text</th>\n    </tr>\n  </thead>\n  <tbody>\n    <tr>\n      <th>0</th>\n      <td>20030219</td>\n      <td>aba decides against community broadcasting lic...</td>\n    </tr>\n    <tr>\n      <th>1</th>\n      <td>20030219</td>\n      <td>act fire witnesses must be aware of defamation</td>\n    </tr>\n    <tr>\n      <th>2</th>\n      <td>20030219</td>\n      <td>a g calls for infrastructure protection summit</td>\n    </tr>\n    <tr>\n      <th>3</th>\n      <td>20030219</td>\n      <td>air nz staff in aust strike for pay rise</td>\n    </tr>\n    <tr>\n      <th>4</th>\n      <td>20030219</td>\n      <td>air nz strike to affect australian travellers</td>\n    </tr>\n  </tbody>\n</table>\n</div>"
     },
     "execution_count": 72,
     "metadata": {},
     "output_type": "execute_result"
    }
   ],
   "source": [
    "# load data\n",
    "df = pd.read_csv('data-text.csv')\n",
    "df.head()"
   ],
   "metadata": {
    "collapsed": false
   }
  },
  {
   "cell_type": "code",
   "execution_count": 73,
   "outputs": [
    {
     "data": {
      "text/plain": "  publish_date                                      headline_text\n0   2003-02-19  aba decides against community broadcasting lic...\n1   2003-02-19     act fire witnesses must be aware of defamation\n2   2003-02-19     a g calls for infrastructure protection summit\n3   2003-02-19           air nz staff in aust strike for pay rise\n4   2003-02-19      air nz strike to affect australian travellers",
      "text/html": "<div>\n<style scoped>\n    .dataframe tbody tr th:only-of-type {\n        vertical-align: middle;\n    }\n\n    .dataframe tbody tr th {\n        vertical-align: top;\n    }\n\n    .dataframe thead th {\n        text-align: right;\n    }\n</style>\n<table border=\"1\" class=\"dataframe\">\n  <thead>\n    <tr style=\"text-align: right;\">\n      <th></th>\n      <th>publish_date</th>\n      <th>headline_text</th>\n    </tr>\n  </thead>\n  <tbody>\n    <tr>\n      <th>0</th>\n      <td>2003-02-19</td>\n      <td>aba decides against community broadcasting lic...</td>\n    </tr>\n    <tr>\n      <th>1</th>\n      <td>2003-02-19</td>\n      <td>act fire witnesses must be aware of defamation</td>\n    </tr>\n    <tr>\n      <th>2</th>\n      <td>2003-02-19</td>\n      <td>a g calls for infrastructure protection summit</td>\n    </tr>\n    <tr>\n      <th>3</th>\n      <td>2003-02-19</td>\n      <td>air nz staff in aust strike for pay rise</td>\n    </tr>\n    <tr>\n      <th>4</th>\n      <td>2003-02-19</td>\n      <td>air nz strike to affect australian travellers</td>\n    </tr>\n  </tbody>\n</table>\n</div>"
     },
     "execution_count": 73,
     "metadata": {},
     "output_type": "execute_result"
    }
   ],
   "source": [
    "# Convert 'publish_date' column to date\n",
    "df['publish_date'] = pd.to_datetime(df['publish_date'], format='%Y%m%d')\n",
    "df.head()"
   ],
   "metadata": {
    "collapsed": false
   }
  },
  {
   "cell_type": "markdown",
   "source": [
    "## Data Characteristics"
   ],
   "metadata": {
    "collapsed": false
   }
  },
  {
   "cell_type": "code",
   "execution_count": 74,
   "outputs": [
    {
     "name": "stdout",
     "output_type": "stream",
     "text": [
      "<class 'pandas.core.frame.DataFrame'>\n",
      "RangeIndex: 1244184 entries, 0 to 1244183\n",
      "Data columns (total 2 columns):\n",
      " #   Column         Non-Null Count    Dtype         \n",
      "---  ------         --------------    -----         \n",
      " 0   publish_date   1244184 non-null  datetime64[ns]\n",
      " 1   headline_text  1244184 non-null  object        \n",
      "dtypes: datetime64[ns](1), object(1)\n",
      "memory usage: 19.0+ MB\n"
     ]
    }
   ],
   "source": [
    "df.info()\n",
    "# df.describe()"
   ],
   "metadata": {
    "collapsed": false
   }
  },
  {
   "cell_type": "code",
   "execution_count": 75,
   "outputs": [
    {
     "name": "stdout",
     "output_type": "stream",
     "text": [
      "Number of duplicated rows: 2\n",
      "        publish_date                                     headline_text\n",
      "1232754   2021-03-01  house prices record sharpest increase since 2003\n",
      "1237050   2021-06-01    house prices reach record levels; as investors\n",
      "Number of rows after duplicated removed: 1244182\n"
     ]
    }
   ],
   "source": [
    "# a simple check for duplicated rows\n",
    "duplicated_rows = df.duplicated().sum()\n",
    "\n",
    "print(f'Number of duplicated rows: {duplicated_rows}')\n",
    "print(df[df.duplicated()])\n",
    "\n",
    "# remove duplicated rows\n",
    "df.drop_duplicates(inplace=True, keep='first')\n",
    "print(f'Number of rows after duplicated removed: {len(df)}')"
   ],
   "metadata": {
    "collapsed": false
   }
  },
  {
   "cell_type": "code",
   "execution_count": 76,
   "outputs": [
    {
     "data": {
      "text/plain": "publish_date     0\nheadline_text    0\ndtype: int64"
     },
     "execution_count": 76,
     "metadata": {},
     "output_type": "execute_result"
    }
   ],
   "source": [
    "# check for missing values\n",
    "df.isna().sum()\n",
    "\n",
    "# Remove missing values\n",
    "# df.dropna(inplace=True)"
   ],
   "metadata": {
    "collapsed": false
   }
  },
  {
   "cell_type": "markdown",
   "source": [
    "^ No need to remove missing values since there are none."
   ],
   "metadata": {
    "collapsed": false
   }
  },
  {
   "cell_type": "code",
   "execution_count": 77,
   "outputs": [
    {
     "data": {
      "text/plain": "  publish_date                                      headline_text  \\\n0   2003-02-19  aba decides against community broadcasting lic...   \n1   2003-02-19     act fire witnesses must be aware of defamation   \n2   2003-02-19     a g calls for infrastructure protection summit   \n3   2003-02-19           air nz staff in aust strike for pay rise   \n4   2003-02-19      air nz strike to affect australian travellers   \n\n   headline_length  headline_word_count  \n0               50                    6  \n1               46                    8  \n2               46                    7  \n3               40                    9  \n4               45                    7  ",
      "text/html": "<div>\n<style scoped>\n    .dataframe tbody tr th:only-of-type {\n        vertical-align: middle;\n    }\n\n    .dataframe tbody tr th {\n        vertical-align: top;\n    }\n\n    .dataframe thead th {\n        text-align: right;\n    }\n</style>\n<table border=\"1\" class=\"dataframe\">\n  <thead>\n    <tr style=\"text-align: right;\">\n      <th></th>\n      <th>publish_date</th>\n      <th>headline_text</th>\n      <th>headline_length</th>\n      <th>headline_word_count</th>\n    </tr>\n  </thead>\n  <tbody>\n    <tr>\n      <th>0</th>\n      <td>2003-02-19</td>\n      <td>aba decides against community broadcasting lic...</td>\n      <td>50</td>\n      <td>6</td>\n    </tr>\n    <tr>\n      <th>1</th>\n      <td>2003-02-19</td>\n      <td>act fire witnesses must be aware of defamation</td>\n      <td>46</td>\n      <td>8</td>\n    </tr>\n    <tr>\n      <th>2</th>\n      <td>2003-02-19</td>\n      <td>a g calls for infrastructure protection summit</td>\n      <td>46</td>\n      <td>7</td>\n    </tr>\n    <tr>\n      <th>3</th>\n      <td>2003-02-19</td>\n      <td>air nz staff in aust strike for pay rise</td>\n      <td>40</td>\n      <td>9</td>\n    </tr>\n    <tr>\n      <th>4</th>\n      <td>2003-02-19</td>\n      <td>air nz strike to affect australian travellers</td>\n      <td>45</td>\n      <td>7</td>\n    </tr>\n  </tbody>\n</table>\n</div>"
     },
     "execution_count": 77,
     "metadata": {},
     "output_type": "execute_result"
    }
   ],
   "source": [
    "# create 'headline_length' and 'headline_word_count' columns\n",
    "df['headline_length'] = df['headline_text'].apply(lambda x: len(x))\n",
    "df['headline_word_count'] = df['headline_text'].apply(lambda x: len(x.split()))\n",
    "df.head()"
   ],
   "metadata": {
    "collapsed": false
   }
  },
  {
   "cell_type": "code",
   "execution_count": 91,
   "outputs": [
    {
     "data": {
      "text/plain": "<Figure size 640x480 with 1 Axes>",
      "image/png": "[encoded data removed]"
     },
     "metadata": {},
     "output_type": "display_data"
    }
   ],
   "source": [
    "# check for outliers\n",
    "df[['headline_length']].boxplot()\n",
    "plt.show()"
   ],
   "metadata": {
    "collapsed": false
   }
  },
  {
   "cell_type": "code",
   "execution_count": 104,
   "outputs": [
    {
     "data": {
      "text/plain": "<Figure size 640x480 with 1 Axes>",
      "image/png": "[encoded data removed]"
     },
     "metadata": {},
     "output_type": "display_data"
    }
   ],
   "source": [
    "# check for outliers\n",
    "df[['headline_word_count']].boxplot()\n",
    "plt.show()"
   ],
   "metadata": {
    "collapsed": false
   }
  },
  {
   "cell_type": "code",
   "execution_count": 98,
   "outputs": [
    {
     "data": {
      "text/plain": "        publish_date headline_text  headline_length  headline_word_count\n904       2003-02-23        nataus                6                    1\n2054      2003-02-28         natwa                5                    1\n3395      2003-03-06     test test                9                    2\n7219      2003-03-25        sptcri                6                    1\n7220      2003-03-25        sptrby                6                    1\n...              ...           ...              ...                  ...\n1241426   2021-10-11           4cs                3                    1\n1241908   2021-10-25         dance                5                    1\n1242107   2021-10-31     done deal                9                    2\n1242324   2021-11-07       jaccuse                7                    1\n1242561   2021-11-15          beal                4                    1\n\n[3374 rows x 4 columns]",
      "text/html": "<div>\n<style scoped>\n    .dataframe tbody tr th:only-of-type {\n        vertical-align: middle;\n    }\n\n    .dataframe tbody tr th {\n        vertical-align: top;\n    }\n\n    .dataframe thead th {\n        text-align: right;\n    }\n</style>\n<table border=\"1\" class=\"dataframe\">\n  <thead>\n    <tr style=\"text-align: right;\">\n      <th></th>\n      <th>publish_date</th>\n      <th>headline_text</th>\n      <th>headline_length</th>\n      <th>headline_word_count</th>\n    </tr>\n  </thead>\n  <tbody>\n    <tr>\n      <th>904</th>\n      <td>2003-02-23</td>\n      <td>nataus</td>\n      <td>6</td>\n      <td>1</td>\n    </tr>\n    <tr>\n      <th>2054</th>\n      <td>2003-02-28</td>\n      <td>natwa</td>\n      <td>5</td>\n      <td>1</td>\n    </tr>\n    <tr>\n      <th>3395</th>\n      <td>2003-03-06</td>\n      <td>test test</td>\n      <td>9</td>\n      <td>2</td>\n    </tr>\n    <tr>\n      <th>7219</th>\n      <td>2003-03-25</td>\n      <td>sptcri</td>\n      <td>6</td>\n      <td>1</td>\n    </tr>\n    <tr>\n      <th>7220</th>\n      <td>2003-03-25</td>\n      <td>sptrby</td>\n      <td>6</td>\n      <td>1</td>\n    </tr>\n    <tr>\n      <th>...</th>\n      <td>...</td>\n      <td>...</td>\n      <td>...</td>\n      <td>...</td>\n    </tr>\n    <tr>\n      <th>1241426</th>\n      <td>2021-10-11</td>\n      <td>4cs</td>\n      <td>3</td>\n      <td>1</td>\n    </tr>\n    <tr>\n      <th>1241908</th>\n      <td>2021-10-25</td>\n      <td>dance</td>\n      <td>5</td>\n      <td>1</td>\n    </tr>\n    <tr>\n      <th>1242107</th>\n      <td>2021-10-31</td>\n      <td>done deal</td>\n      <td>9</td>\n      <td>2</td>\n    </tr>\n    <tr>\n      <th>1242324</th>\n      <td>2021-11-07</td>\n      <td>jaccuse</td>\n      <td>7</td>\n      <td>1</td>\n    </tr>\n    <tr>\n      <th>1242561</th>\n      <td>2021-11-15</td>\n      <td>beal</td>\n      <td>4</td>\n      <td>1</td>\n    </tr>\n  </tbody>\n</table>\n<p>3374 rows × 4 columns</p>\n</div>"
     },
     "execution_count": 98,
     "metadata": {},
     "output_type": "execute_result"
    }
   ],
   "source": [
    "df[df['headline_length'] < 10]"
   ],
   "metadata": {
    "collapsed": false
   }
  },
  {
   "cell_type": "code",
   "execution_count": 107,
   "outputs": [
    {
     "data": {
      "text/plain": "        publish_date headline_text  headline_length  headline_word_count\n904       2003-02-23        nataus                6                    1\n2054      2003-02-28         natwa                5                    1\n7219      2003-03-25        sptcri                6                    1\n7220      2003-03-25        sptrby                6                    1\n7635      2003-03-27        nattas                6                    1\n...              ...           ...              ...                  ...\n1240439   2021-09-12     dithering                9                    1\n1241426   2021-10-11           4cs                3                    1\n1241908   2021-10-25         dance                5                    1\n1242324   2021-11-07       jaccuse                7                    1\n1242561   2021-11-15          beal                4                    1\n\n[1248 rows x 4 columns]",
      "text/html": "<div>\n<style scoped>\n    .dataframe tbody tr th:only-of-type {\n        vertical-align: middle;\n    }\n\n    .dataframe tbody tr th {\n        vertical-align: top;\n    }\n\n    .dataframe thead th {\n        text-align: right;\n    }\n</style>\n<table border=\"1\" class=\"dataframe\">\n  <thead>\n    <tr style=\"text-align: right;\">\n      <th></th>\n      <th>publish_date</th>\n      <th>headline_text</th>\n      <th>headline_length</th>\n      <th>headline_word_count</th>\n    </tr>\n  </thead>\n  <tbody>\n    <tr>\n      <th>904</th>\n      <td>2003-02-23</td>\n      <td>nataus</td>\n      <td>6</td>\n      <td>1</td>\n    </tr>\n    <tr>\n      <th>2054</th>\n      <td>2003-02-28</td>\n      <td>natwa</td>\n      <td>5</td>\n      <td>1</td>\n    </tr>\n    <tr>\n      <th>7219</th>\n      <td>2003-03-25</td>\n      <td>sptcri</td>\n      <td>6</td>\n      <td>1</td>\n    </tr>\n    <tr>\n      <th>7220</th>\n      <td>2003-03-25</td>\n      <td>sptrby</td>\n      <td>6</td>\n      <td>1</td>\n    </tr>\n    <tr>\n      <th>7635</th>\n      <td>2003-03-27</td>\n      <td>nattas</td>\n      <td>6</td>\n      <td>1</td>\n    </tr>\n    <tr>\n      <th>...</th>\n      <td>...</td>\n      <td>...</td>\n      <td>...</td>\n      <td>...</td>\n    </tr>\n    <tr>\n      <th>1240439</th>\n      <td>2021-09-12</td>\n      <td>dithering</td>\n      <td>9</td>\n      <td>1</td>\n    </tr>\n    <tr>\n      <th>1241426</th>\n      <td>2021-10-11</td>\n      <td>4cs</td>\n      <td>3</td>\n      <td>1</td>\n    </tr>\n    <tr>\n      <th>1241908</th>\n      <td>2021-10-25</td>\n      <td>dance</td>\n      <td>5</td>\n      <td>1</td>\n    </tr>\n    <tr>\n      <th>1242324</th>\n      <td>2021-11-07</td>\n      <td>jaccuse</td>\n      <td>7</td>\n      <td>1</td>\n    </tr>\n    <tr>\n      <th>1242561</th>\n      <td>2021-11-15</td>\n      <td>beal</td>\n      <td>4</td>\n      <td>1</td>\n    </tr>\n  </tbody>\n</table>\n<p>1248 rows × 4 columns</p>\n</div>"
     },
     "execution_count": 107,
     "metadata": {},
     "output_type": "execute_result"
    }
   ],
   "source": [
    "df[df['headline_word_count'] < 2]"
   ],
   "metadata": {
    "collapsed": false
   }
  },
  {
   "cell_type": "code",
   "execution_count": null,
   "outputs": [],
   "source": [
    "# b. Handle any outliers present in the data.\n",
    "# d. Tokenize / clean to your understanding."
   ],
   "metadata": {
    "collapsed": false
   }
  },
  {
   "cell_type": "markdown",
   "source": [
    "## EDA"
   ],
   "metadata": {
    "collapsed": false
   }
  },
  {
   "cell_type": "code",
   "execution_count": 39,
   "outputs": [],
   "source": [],
   "metadata": {
    "collapsed": false
   }
  },
  {
   "cell_type": "markdown",
   "source": [
    "---\n",
    "# Part 2 - Topic modeling\n",
    "Attempt at least one topic modeling method of your choice to cluster the headlines into topics.\n",
    "1. Since we cannot determine the number of topics in advance, experiment sensibly to assess a reasonable amount of topics.\n",
    "2. Devise a method (either computationally, graphically, or both) to decide about the number of topics, and then match headlines to topics.\n",
    "3. Try to estimate somehow the matching error."
   ],
   "metadata": {
    "collapsed": false
   }
  },
  {
   "cell_type": "code",
   "execution_count": 39,
   "outputs": [],
   "source": [],
   "metadata": {
    "collapsed": false
   }
  },
  {
   "cell_type": "markdown",
   "source": [
    "---\n",
    "# Part 3 - Bonus\n",
    "Compare the method with an additional topic modeling method."
   ],
   "metadata": {
    "collapsed": false
   },
   "execution_count": 0
  },
  {
   "cell_type": "code",
   "execution_count": 39,
   "outputs": [],
   "source": [],
   "metadata": {
    "collapsed": false
   }
  }
 ],
 "metadata": {
  "kernelspec": {
   "display_name": "Python 3",
   "language": "python",
   "name": "python3"
  },
  "language_info": {
   "codemirror_mode": {
    "name": "ipython",
    "version": 2
   },
   "file_extension": ".py",
   "mimetype": "text/x-python",
   "name": "python",
   "nbconvert_exporter": "python",
   "pygments_lexer": "ipython2",
   "version": "2.7.6"
  }
 },
 "nbformat": 4,
 "nbformat_minor": 0
}
