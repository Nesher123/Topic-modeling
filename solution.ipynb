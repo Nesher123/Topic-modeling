{
 "cells": [
  {
   "cell_type": "markdown",
   "source": [
    "# Introduction\n",
    "\n",
    "This is a home assignment for the role - Data Science. Please follow the instructions:\n",
    "1. The main goal of this assignment is to analyze/extract topics within a huge corpus.\n",
    "2. The primary language to use in this exercise is Python (and its auxiliary packages of your choice) on top of Jupyter Notebook.\n",
    "3. Your code should be research-grade, as detailed below:\n",
    "    a. The code should be reliable (think of the correctness and edge cases).\n",
    "    b. The code should be readable and maintainable.\n",
    "    c. Take (some) memory efficiency into consideration while solving the problem.\n",
    "    d. The data visualization should be functional enough to support the answers.\n",
    "4. The solution should be extensible:\n",
    "    a. Work iteratively within the given time frame to get something before you deepen your research.\n",
    "    b. Think of the step-by-step implementation.\n",
    "    c. Being rigorous is important for the maintenance, correctness, and flexibility of the results, but try to be concise and elegant where possible.\n",
    "5. We value your time. The whole assignment should take roughly 0.5-1 day. If you think it will take longer, please let us know ahead of time.\n",
    "\n",
    "Good Luck!\n",
    "\n",
    "\n",
    "# Objective\n",
    "Analyze a dataset of headlines. First - clean, explore, and tokenize the text. Then, apply common NLP methods used for topic modeling.\n"
   ],
   "metadata": {
    "collapsed": false
   }
  },
  {
   "cell_type": "markdown",
   "source": [
    "---\n",
    "# Part 1 - Data cleaning and exploration\n",
    "1. Load the attached dataset using Pandas.\n",
    "2. Clean and prepare the data for analysis by performing the following tasks:\n",
    "    a. Remove missing values.\n",
    "    b. Handle any outliers present in the data.\n",
    "    c. Convert any non-numeric columns to numeric/date (when possible).\n",
    "    d. Tokenize / clean to your understanding.\n",
    "3. Perform an EDA of your choice to help you understand the data."
   ],
   "metadata": {
    "collapsed": false
   }
  },
  {
   "cell_type": "markdown",
   "source": [
    "## Imports"
   ],
   "metadata": {
    "collapsed": false
   }
  },
  {
   "cell_type": "code",
   "execution_count": 1,
   "outputs": [],
   "source": [
    "import pandas as pd\n",
    "import numpy as np\n",
    "import seaborn as sns\n",
    "import matplotlib.pyplot as plt"
   ],
   "metadata": {
    "collapsed": false
   }
  },
  {
   "cell_type": "markdown",
   "source": [
    "## Constants"
   ],
   "metadata": {
    "collapsed": false
   }
  },
  {
   "cell_type": "code",
   "execution_count": 93,
   "outputs": [],
   "source": [
    "TOKEN_MIN_LENGTH = 3"
   ],
   "metadata": {
    "collapsed": false
   }
  },
  {
   "cell_type": "code",
   "execution_count": 2,
   "outputs": [
    {
     "data": {
      "text/plain": "   publish_date                                      headline_text\n0      20030219  aba decides against community broadcasting lic...\n1      20030219     act fire witnesses must be aware of defamation\n2      20030219     a g calls for infrastructure protection summit\n3      20030219           air nz staff in aust strike for pay rise\n4      20030219      air nz strike to affect australian travellers",
      "text/html": "<div>\n<style scoped>\n    .dataframe tbody tr th:only-of-type {\n        vertical-align: middle;\n    }\n\n    .dataframe tbody tr th {\n        vertical-align: top;\n    }\n\n    .dataframe thead th {\n        text-align: right;\n    }\n</style>\n<table border=\"1\" class=\"dataframe\">\n  <thead>\n    <tr style=\"text-align: right;\">\n      <th></th>\n      <th>publish_date</th>\n      <th>headline_text</th>\n    </tr>\n  </thead>\n  <tbody>\n    <tr>\n      <th>0</th>\n      <td>20030219</td>\n      <td>aba decides against community broadcasting lic...</td>\n    </tr>\n    <tr>\n      <th>1</th>\n      <td>20030219</td>\n      <td>act fire witnesses must be aware of defamation</td>\n    </tr>\n    <tr>\n      <th>2</th>\n      <td>20030219</td>\n      <td>a g calls for infrastructure protection summit</td>\n    </tr>\n    <tr>\n      <th>3</th>\n      <td>20030219</td>\n      <td>air nz staff in aust strike for pay rise</td>\n    </tr>\n    <tr>\n      <th>4</th>\n      <td>20030219</td>\n      <td>air nz strike to affect australian travellers</td>\n    </tr>\n  </tbody>\n</table>\n</div>"
     },
     "execution_count": 2,
     "metadata": {},
     "output_type": "execute_result"
    }
   ],
   "source": [
    "# load data\n",
    "df = pd.read_csv('data-text.csv')\n",
    "df.head()"
   ],
   "metadata": {
    "collapsed": false
   }
  },
  {
   "cell_type": "markdown",
   "source": [
    "## Data Characteristics"
   ],
   "metadata": {
    "collapsed": false
   }
  },
  {
   "cell_type": "code",
   "execution_count": 3,
   "outputs": [
    {
     "name": "stdout",
     "output_type": "stream",
     "text": [
      "<class 'pandas.core.frame.DataFrame'>\n",
      "RangeIndex: 1244184 entries, 0 to 1244183\n",
      "Data columns (total 2 columns):\n",
      " #   Column         Non-Null Count    Dtype \n",
      "---  ------         --------------    ----- \n",
      " 0   publish_date   1244184 non-null  int64 \n",
      " 1   headline_text  1244184 non-null  object\n",
      "dtypes: int64(1), object(1)\n",
      "memory usage: 19.0+ MB\n"
     ]
    }
   ],
   "source": [
    "df.info()"
   ],
   "metadata": {
    "collapsed": false
   }
  },
  {
   "cell_type": "code",
   "execution_count": 4,
   "outputs": [
    {
     "name": "stdout",
     "output_type": "stream",
     "text": [
      "Number of duplicated rows: 2\n",
      "         publish_date                                     headline_text\n",
      "1232754      20210301  house prices record sharpest increase since 2003\n",
      "1237050      20210601    house prices reach record levels; as investors\n",
      "Number of rows after duplicated removed: 1244182\n"
     ]
    }
   ],
   "source": [
    "# a simple check for duplicated rows\n",
    "duplicated_rows = df.duplicated().sum()\n",
    "print(f'Number of duplicated rows: {duplicated_rows}')\n",
    "\n",
    "# remove duplicated rows\n",
    "df.drop_duplicates(inplace=True, keep='first')\n",
    "print(f'Number of rows after duplicated removed: {len(df)}')"
   ],
   "metadata": {
    "collapsed": false
   }
  },
  {
   "cell_type": "code",
   "execution_count": 5,
   "outputs": [
    {
     "data": {
      "text/plain": "publish_date     0\nheadline_text    0\ndtype: int64"
     },
     "execution_count": 5,
     "metadata": {},
     "output_type": "execute_result"
    }
   ],
   "source": [
    "df.isna().sum()  # check for missing values\n",
    "# df.dropna(inplace=True)  # remove missing values"
   ],
   "metadata": {
    "collapsed": false
   }
  },
  {
   "cell_type": "markdown",
   "source": [
    "^ No need to remove missing values since there are none."
   ],
   "metadata": {
    "collapsed": false
   }
  },
  {
   "cell_type": "code",
   "execution_count": 6,
   "outputs": [
    {
     "data": {
      "text/plain": "  publish_date                                      headline_text\n0   2003-02-19  aba decides against community broadcasting lic...\n1   2003-02-19     act fire witnesses must be aware of defamation\n2   2003-02-19     a g calls for infrastructure protection summit\n3   2003-02-19           air nz staff in aust strike for pay rise\n4   2003-02-19      air nz strike to affect australian travellers",
      "text/html": "<div>\n<style scoped>\n    .dataframe tbody tr th:only-of-type {\n        vertical-align: middle;\n    }\n\n    .dataframe tbody tr th {\n        vertical-align: top;\n    }\n\n    .dataframe thead th {\n        text-align: right;\n    }\n</style>\n<table border=\"1\" class=\"dataframe\">\n  <thead>\n    <tr style=\"text-align: right;\">\n      <th></th>\n      <th>publish_date</th>\n      <th>headline_text</th>\n    </tr>\n  </thead>\n  <tbody>\n    <tr>\n      <th>0</th>\n      <td>2003-02-19</td>\n      <td>aba decides against community broadcasting lic...</td>\n    </tr>\n    <tr>\n      <th>1</th>\n      <td>2003-02-19</td>\n      <td>act fire witnesses must be aware of defamation</td>\n    </tr>\n    <tr>\n      <th>2</th>\n      <td>2003-02-19</td>\n      <td>a g calls for infrastructure protection summit</td>\n    </tr>\n    <tr>\n      <th>3</th>\n      <td>2003-02-19</td>\n      <td>air nz staff in aust strike for pay rise</td>\n    </tr>\n    <tr>\n      <th>4</th>\n      <td>2003-02-19</td>\n      <td>air nz strike to affect australian travellers</td>\n    </tr>\n  </tbody>\n</table>\n</div>"
     },
     "execution_count": 6,
     "metadata": {},
     "output_type": "execute_result"
    }
   ],
   "source": [
    "# convert 'publish_date' column to date\n",
    "df['publish_date'] = pd.to_datetime(df['publish_date'], format='%Y%m%d')\n",
    "df.head()"
   ],
   "metadata": {
    "collapsed": false
   }
  },
  {
   "cell_type": "code",
   "execution_count": 9,
   "outputs": [
    {
     "data": {
      "text/plain": "  publish_date                                      headline_text  \\\n0   2003-02-19  aba decides against community broadcasting lic...   \n1   2003-02-19     act fire witnesses must be aware of defamation   \n2   2003-02-19     a g calls for infrastructure protection summit   \n3   2003-02-19           air nz staff in aust strike for pay rise   \n4   2003-02-19      air nz strike to affect australian travellers   \n\n   headline_length  headline_word_count  publish_month  publish_year  \n0               50                    6              2          2003  \n1               46                    8              2          2003  \n2               46                    7              2          2003  \n3               40                    9              2          2003  \n4               45                    7              2          2003  ",
      "text/html": "<div>\n<style scoped>\n    .dataframe tbody tr th:only-of-type {\n        vertical-align: middle;\n    }\n\n    .dataframe tbody tr th {\n        vertical-align: top;\n    }\n\n    .dataframe thead th {\n        text-align: right;\n    }\n</style>\n<table border=\"1\" class=\"dataframe\">\n  <thead>\n    <tr style=\"text-align: right;\">\n      <th></th>\n      <th>publish_date</th>\n      <th>headline_text</th>\n      <th>headline_length</th>\n      <th>headline_word_count</th>\n      <th>publish_month</th>\n      <th>publish_year</th>\n    </tr>\n  </thead>\n  <tbody>\n    <tr>\n      <th>0</th>\n      <td>2003-02-19</td>\n      <td>aba decides against community broadcasting lic...</td>\n      <td>50</td>\n      <td>6</td>\n      <td>2</td>\n      <td>2003</td>\n    </tr>\n    <tr>\n      <th>1</th>\n      <td>2003-02-19</td>\n      <td>act fire witnesses must be aware of defamation</td>\n      <td>46</td>\n      <td>8</td>\n      <td>2</td>\n      <td>2003</td>\n    </tr>\n    <tr>\n      <th>2</th>\n      <td>2003-02-19</td>\n      <td>a g calls for infrastructure protection summit</td>\n      <td>46</td>\n      <td>7</td>\n      <td>2</td>\n      <td>2003</td>\n    </tr>\n    <tr>\n      <th>3</th>\n      <td>2003-02-19</td>\n      <td>air nz staff in aust strike for pay rise</td>\n      <td>40</td>\n      <td>9</td>\n      <td>2</td>\n      <td>2003</td>\n    </tr>\n    <tr>\n      <th>4</th>\n      <td>2003-02-19</td>\n      <td>air nz strike to affect australian travellers</td>\n      <td>45</td>\n      <td>7</td>\n      <td>2</td>\n      <td>2003</td>\n    </tr>\n  </tbody>\n</table>\n</div>"
     },
     "execution_count": 9,
     "metadata": {},
     "output_type": "execute_result"
    }
   ],
   "source": [
    "# create new feature columns\n",
    "df['publish_month'] = df['publish_date'].apply(lambda x: x.month)\n",
    "df['publish_year'] = df['publish_date'].apply(lambda x: x.year)\n",
    "df['headline_length'] = df['headline_text'].apply(lambda x: len(x))\n",
    "df['headline_word_count'] = df['headline_text'].apply(lambda x: len(x.split()))\n",
    "df.head()"
   ],
   "metadata": {
    "collapsed": false
   }
  },
  {
   "cell_type": "markdown",
   "source": [
    "## check for outliers"
   ],
   "metadata": {
    "collapsed": false
   }
  },
  {
   "cell_type": "code",
   "execution_count": 10,
   "outputs": [
    {
     "data": {
      "text/plain": "<Figure size 640x480 with 1 Axes>",
      "image/png": "[encoded data removed]"
     },
     "metadata": {},
     "output_type": "display_data"
    }
   ],
   "source": [
    "df[['headline_length']].boxplot()\n",
    "plt.show()"
   ],
   "metadata": {
    "collapsed": false
   }
  },
  {
   "cell_type": "code",
   "execution_count": 11,
   "outputs": [
    {
     "data": {
      "text/plain": "<Figure size 640x480 with 1 Axes>",
      "image/png": "[encoded data removed]"
     },
     "metadata": {},
     "output_type": "display_data"
    }
   ],
   "source": [
    "# check for outliers\n",
    "df[['headline_word_count']].boxplot()\n",
    "plt.show()"
   ],
   "metadata": {
    "collapsed": false
   }
  },
  {
   "cell_type": "code",
   "execution_count": 88,
   "outputs": [
    {
     "data": {
      "text/plain": "        publish_date headline_text  headline_length  headline_word_count  \\\n904       2003-02-23        nataus                6                    1   \n2054      2003-02-28         natwa                5                    1   \n3395      2003-03-06     test test                9                    2   \n7219      2003-03-25        sptcri                6                    1   \n7220      2003-03-25        sptrby                6                    1   \n...              ...           ...              ...                  ...   \n1242076   2021-10-29  jana pittman               12                    2   \n1242107   2021-10-31     done deal                9                    2   \n1242324   2021-11-07       jaccuse                7                    1   \n1242561   2021-11-15          beal                4                    1   \n1242657   2021-11-17    logan full               10                    2   \n\n         publish_month  publish_year  \n904                  2          2003  \n2054                 2          2003  \n3395                 3          2003  \n7219                 3          2003  \n7220                 3          2003  \n...                ...           ...  \n1242076             10          2021  \n1242107             10          2021  \n1242324             11          2021  \n1242561             11          2021  \n1242657             11          2021  \n\n[11306 rows x 6 columns]",
      "text/html": "<div>\n<style scoped>\n    .dataframe tbody tr th:only-of-type {\n        vertical-align: middle;\n    }\n\n    .dataframe tbody tr th {\n        vertical-align: top;\n    }\n\n    .dataframe thead th {\n        text-align: right;\n    }\n</style>\n<table border=\"1\" class=\"dataframe\">\n  <thead>\n    <tr style=\"text-align: right;\">\n      <th></th>\n      <th>publish_date</th>\n      <th>headline_text</th>\n      <th>headline_length</th>\n      <th>headline_word_count</th>\n      <th>publish_month</th>\n      <th>publish_year</th>\n    </tr>\n  </thead>\n  <tbody>\n    <tr>\n      <th>904</th>\n      <td>2003-02-23</td>\n      <td>nataus</td>\n      <td>6</td>\n      <td>1</td>\n      <td>2</td>\n      <td>2003</td>\n    </tr>\n    <tr>\n      <th>2054</th>\n      <td>2003-02-28</td>\n      <td>natwa</td>\n      <td>5</td>\n      <td>1</td>\n      <td>2</td>\n      <td>2003</td>\n    </tr>\n    <tr>\n      <th>3395</th>\n      <td>2003-03-06</td>\n      <td>test test</td>\n      <td>9</td>\n      <td>2</td>\n      <td>3</td>\n      <td>2003</td>\n    </tr>\n    <tr>\n      <th>7219</th>\n      <td>2003-03-25</td>\n      <td>sptcri</td>\n      <td>6</td>\n      <td>1</td>\n      <td>3</td>\n      <td>2003</td>\n    </tr>\n    <tr>\n      <th>7220</th>\n      <td>2003-03-25</td>\n      <td>sptrby</td>\n      <td>6</td>\n      <td>1</td>\n      <td>3</td>\n      <td>2003</td>\n    </tr>\n    <tr>\n      <th>...</th>\n      <td>...</td>\n      <td>...</td>\n      <td>...</td>\n      <td>...</td>\n      <td>...</td>\n      <td>...</td>\n    </tr>\n    <tr>\n      <th>1242076</th>\n      <td>2021-10-29</td>\n      <td>jana pittman</td>\n      <td>12</td>\n      <td>2</td>\n      <td>10</td>\n      <td>2021</td>\n    </tr>\n    <tr>\n      <th>1242107</th>\n      <td>2021-10-31</td>\n      <td>done deal</td>\n      <td>9</td>\n      <td>2</td>\n      <td>10</td>\n      <td>2021</td>\n    </tr>\n    <tr>\n      <th>1242324</th>\n      <td>2021-11-07</td>\n      <td>jaccuse</td>\n      <td>7</td>\n      <td>1</td>\n      <td>11</td>\n      <td>2021</td>\n    </tr>\n    <tr>\n      <th>1242561</th>\n      <td>2021-11-15</td>\n      <td>beal</td>\n      <td>4</td>\n      <td>1</td>\n      <td>11</td>\n      <td>2021</td>\n    </tr>\n    <tr>\n      <th>1242657</th>\n      <td>2021-11-17</td>\n      <td>logan full</td>\n      <td>10</td>\n      <td>2</td>\n      <td>11</td>\n      <td>2021</td>\n    </tr>\n  </tbody>\n</table>\n<p>11306 rows × 6 columns</p>\n</div>"
     },
     "execution_count": 88,
     "metadata": {},
     "output_type": "execute_result"
    }
   ],
   "source": [
    "df[df['headline_length'] < 13]"
   ],
   "metadata": {
    "collapsed": false
   }
  },
  {
   "cell_type": "code",
   "execution_count": 91,
   "outputs": [
    {
     "data": {
      "text/plain": "        publish_date           headline_text  headline_length  \\\n3395      2003-03-06               test test                9   \n8998      2003-04-02               test test                9   \n11215     2003-04-14                 crn tnv                7   \n11348     2003-04-14                 tnv crn                7   \n19649     2003-05-25    hollingworth resigns               20   \n...              ...                     ...              ...   \n1242908   2021-11-24  wallerawang demolition               22   \n1243066   2021-11-30          nols normannbk               14   \n1243422   2021-12-08       eleanor beidatsch               17   \n1243915   2021-12-22        handfish spotted               16   \n1244025   2021-12-26        teeth sculptures               16   \n\n         headline_word_count  publish_month  publish_year  \n3395                       2              3          2003  \n8998                       2              4          2003  \n11215                      2              4          2003  \n11348                      2              4          2003  \n19649                      2              5          2003  \n...                      ...            ...           ...  \n1242908                    2             11          2021  \n1243066                    2             11          2021  \n1243422                    2             12          2021  \n1243915                    2             12          2021  \n1244025                    2             12          2021  \n\n[21166 rows x 6 columns]",
      "text/html": "<div>\n<style scoped>\n    .dataframe tbody tr th:only-of-type {\n        vertical-align: middle;\n    }\n\n    .dataframe tbody tr th {\n        vertical-align: top;\n    }\n\n    .dataframe thead th {\n        text-align: right;\n    }\n</style>\n<table border=\"1\" class=\"dataframe\">\n  <thead>\n    <tr style=\"text-align: right;\">\n      <th></th>\n      <th>publish_date</th>\n      <th>headline_text</th>\n      <th>headline_length</th>\n      <th>headline_word_count</th>\n      <th>publish_month</th>\n      <th>publish_year</th>\n    </tr>\n  </thead>\n  <tbody>\n    <tr>\n      <th>3395</th>\n      <td>2003-03-06</td>\n      <td>test test</td>\n      <td>9</td>\n      <td>2</td>\n      <td>3</td>\n      <td>2003</td>\n    </tr>\n    <tr>\n      <th>8998</th>\n      <td>2003-04-02</td>\n      <td>test test</td>\n      <td>9</td>\n      <td>2</td>\n      <td>4</td>\n      <td>2003</td>\n    </tr>\n    <tr>\n      <th>11215</th>\n      <td>2003-04-14</td>\n      <td>crn tnv</td>\n      <td>7</td>\n      <td>2</td>\n      <td>4</td>\n      <td>2003</td>\n    </tr>\n    <tr>\n      <th>11348</th>\n      <td>2003-04-14</td>\n      <td>tnv crn</td>\n      <td>7</td>\n      <td>2</td>\n      <td>4</td>\n      <td>2003</td>\n    </tr>\n    <tr>\n      <th>19649</th>\n      <td>2003-05-25</td>\n      <td>hollingworth resigns</td>\n      <td>20</td>\n      <td>2</td>\n      <td>5</td>\n      <td>2003</td>\n    </tr>\n    <tr>\n      <th>...</th>\n      <td>...</td>\n      <td>...</td>\n      <td>...</td>\n      <td>...</td>\n      <td>...</td>\n      <td>...</td>\n    </tr>\n    <tr>\n      <th>1242908</th>\n      <td>2021-11-24</td>\n      <td>wallerawang demolition</td>\n      <td>22</td>\n      <td>2</td>\n      <td>11</td>\n      <td>2021</td>\n    </tr>\n    <tr>\n      <th>1243066</th>\n      <td>2021-11-30</td>\n      <td>nols normannbk</td>\n      <td>14</td>\n      <td>2</td>\n      <td>11</td>\n      <td>2021</td>\n    </tr>\n    <tr>\n      <th>1243422</th>\n      <td>2021-12-08</td>\n      <td>eleanor beidatsch</td>\n      <td>17</td>\n      <td>2</td>\n      <td>12</td>\n      <td>2021</td>\n    </tr>\n    <tr>\n      <th>1243915</th>\n      <td>2021-12-22</td>\n      <td>handfish spotted</td>\n      <td>16</td>\n      <td>2</td>\n      <td>12</td>\n      <td>2021</td>\n    </tr>\n    <tr>\n      <th>1244025</th>\n      <td>2021-12-26</td>\n      <td>teeth sculptures</td>\n      <td>16</td>\n      <td>2</td>\n      <td>12</td>\n      <td>2021</td>\n    </tr>\n  </tbody>\n</table>\n<p>21166 rows × 6 columns</p>\n</div>"
     },
     "execution_count": 91,
     "metadata": {},
     "output_type": "execute_result"
    }
   ],
   "source": [
    "df[df['headline_word_count'] < 2]"
   ],
   "metadata": {
    "collapsed": false
   }
  },
  {
   "cell_type": "code",
   "execution_count": null,
   "outputs": [],
   "source": [
    "# remove outliers?\n",
    "# df = df[df['headline_length'] >= 13]\n",
    "# df = df[df['headline_word_count'] >= 2]"
   ],
   "metadata": {
    "collapsed": false
   }
  },
  {
   "cell_type": "code",
   "execution_count": null,
   "outputs": [],
   "source": [
    "# def get_avg_word_len(x):\n",
    "#     \"\"\"Get the average word length from a given sentence\n",
    "#     param x(str): the sentence of whose word length is to be taken\n",
    "#     return leng(numeric): the average word length \"\"\"\n",
    "#\n",
    "#     words = x.split()\n",
    "#     word_len = 0\n",
    "#     for word in words:\n",
    "#         word_len = word_len + len(word)\n",
    "#     return word_len / len(words)\n",
    "#\n",
    "#\n",
    "# def feature_extract(df, d):\n",
    "#     \"\"\"Adds new columns in the given df, from the existing data\n",
    "#     count: number of words in the document (df[d])\n",
    "#     char count: number of characters in df[d]\n",
    "#     avg word_len: the average number of characters in the df[d]\n",
    "#     stop_words_len: number of stopwords present\n",
    "#     numeric_count: number of numeric characters present\n",
    "#     upper_counts: number of words in CAPS LOCK\n",
    "#     polarity: sentiment of the word, from -1(negative) to 1(positive)\n",
    "#\n",
    "#     param df(dataframe): dataframe on which manipulation is to be done\n",
    "#     param d(str): column name in which the reuired words are present\"\"\"\n",
    "#\n",
    "#     df['count'] = df[d].apply(lambda x: len(str(x).split()))\n",
    "#     df['char count'] = df[d].apply(lambda x: len(x))\n",
    "#     df['avg word_len'] = df[d].apply(lambda x: get_avg_word_len(x))\n",
    "#     df['stop_words_len'] = df[d].apply(lambda x: len([t for t in x.split() if t in STOP_WORDS]))\n",
    "#     df['numeric_count'] = df[d].apply(lambda x: len([t for t in x.split() if t.isdigit()]))\n",
    "#     df['upper_counts'] = df[d].apply(lambda x: len([t for t in x.split() if t.isupper() and len(x) > 3]))\n",
    "#     df['polarity'] = df['document'].map(lambda text: TextBlob(text).sentiment.polarity)"
   ],
   "metadata": {
    "collapsed": false
   }
  },
  {
   "cell_type": "markdown",
   "source": [
    "## Tokenize"
   ],
   "metadata": {
    "collapsed": false
   }
  },
  {
   "cell_type": "code",
   "execution_count": 98,
   "outputs": [
    {
     "name": "stdout",
     "output_type": "stream",
     "text": [
      "1244182\n"
     ]
    },
    {
     "data": {
      "text/plain": "                                       headline_text  index\n0  aba decides against community broadcasting lic...      0\n1     act fire witnesses must be aware of defamation      1\n2     a g calls for infrastructure protection summit      2\n3           air nz staff in aust strike for pay rise      3\n4      air nz strike to affect australian travellers      4",
      "text/html": "<div>\n<style scoped>\n    .dataframe tbody tr th:only-of-type {\n        vertical-align: middle;\n    }\n\n    .dataframe tbody tr th {\n        vertical-align: top;\n    }\n\n    .dataframe thead th {\n        text-align: right;\n    }\n</style>\n<table border=\"1\" class=\"dataframe\">\n  <thead>\n    <tr style=\"text-align: right;\">\n      <th></th>\n      <th>headline_text</th>\n      <th>index</th>\n    </tr>\n  </thead>\n  <tbody>\n    <tr>\n      <th>0</th>\n      <td>aba decides against community broadcasting lic...</td>\n      <td>0</td>\n    </tr>\n    <tr>\n      <th>1</th>\n      <td>act fire witnesses must be aware of defamation</td>\n      <td>1</td>\n    </tr>\n    <tr>\n      <th>2</th>\n      <td>a g calls for infrastructure protection summit</td>\n      <td>2</td>\n    </tr>\n    <tr>\n      <th>3</th>\n      <td>air nz staff in aust strike for pay rise</td>\n      <td>3</td>\n    </tr>\n    <tr>\n      <th>4</th>\n      <td>air nz strike to affect australian travellers</td>\n      <td>4</td>\n    </tr>\n  </tbody>\n</table>\n</div>"
     },
     "execution_count": 98,
     "metadata": {},
     "output_type": "execute_result"
    }
   ],
   "source": [
    "data_text = df[['headline_text']].copy()\n",
    "data_text['index'] = data_text.index\n",
    "documents = data_text\n",
    "\n",
    "print(len(documents))\n",
    "documents.head()"
   ],
   "metadata": {
    "collapsed": false
   }
  },
  {
   "cell_type": "code",
   "execution_count": 92,
   "outputs": [
    {
     "name": "stderr",
     "output_type": "stream",
     "text": [
      "[nltk_data] Downloading package wordnet to\n",
      "[nltk_data]     C:\\Users\\neshe\\AppData\\Roaming\\nltk_data...\n",
      "[nltk_data]   Package wordnet is already up-to-date!\n"
     ]
    },
    {
     "data": {
      "text/plain": "True"
     },
     "execution_count": 92,
     "metadata": {},
     "output_type": "execute_result"
    }
   ],
   "source": [
    "import gensim\n",
    "from gensim.utils import simple_preprocess\n",
    "from gensim.parsing.preprocessing import STOPWORDS\n",
    "from nltk.stem import WordNetLemmatizer, SnowballStemmer\n",
    "from nltk.stem.porter import *\n",
    "import numpy as np\n",
    "import nltk\n",
    "\n",
    "np.random.seed(2018)\n",
    "nltk.download('wordnet')"
   ],
   "metadata": {
    "collapsed": false
   }
  },
  {
   "cell_type": "code",
   "execution_count": 94,
   "outputs": [],
   "source": [
    "stemmer = SnowballStemmer('english')\n",
    "\n",
    "\n",
    "def lemmatize_stemming(text):\n",
    "    return stemmer.stem(WordNetLemmatizer().lemmatize(text, pos='v'))\n",
    "\n",
    "\n",
    "def preprocess(text):\n",
    "    result = []\n",
    "\n",
    "    for token in gensim.utils.simple_preprocess(text):\n",
    "        if token not in gensim.parsing.preprocessing.STOPWORDS and len(token) > TOKEN_MIN_LENGTH:\n",
    "            result.append(lemmatize_stemming(token))\n",
    "\n",
    "    return result"
   ],
   "metadata": {
    "collapsed": false
   }
  },
  {
   "cell_type": "code",
   "execution_count": 101,
   "outputs": [
    {
     "name": "stdout",
     "output_type": "stream",
     "text": [
      "original document:\n",
      "['ratepayers', 'group', 'wants', 'compulsory', 'local', 'govt', 'voting']\n",
      "\n",
      "\n",
      " tokenized and lemmatized document:\n",
      "['ratepay', 'group', 'want', 'compulsori', 'local', 'govt', 'vote']\n"
     ]
    }
   ],
   "source": [
    "doc_sample = documents[documents['index'] == 4310].values[0][0]\n",
    "words = []\n",
    "print('original document:')\n",
    "\n",
    "for word in doc_sample.split(' '):\n",
    "    words.append(word)\n",
    "\n",
    "print(words)\n",
    "print('\\n\\n tokenized and lemmatized document:')\n",
    "print(preprocess(doc_sample))"
   ],
   "metadata": {
    "collapsed": false
   }
  },
  {
   "cell_type": "code",
   "execution_count": 102,
   "outputs": [
    {
     "data": {
      "text/plain": "0     [decid, communiti, broadcast, licenc]\n1                        [wit, awar, defam]\n2    [call, infrastructur, protect, summit]\n3               [staff, aust, strike, rise]\n4      [strike, affect, australian, travel]\nName: headline_text, dtype: object"
     },
     "execution_count": 102,
     "metadata": {},
     "output_type": "execute_result"
    }
   ],
   "source": [
    "processed_docs = documents['headline_text'].map(preprocess)\n",
    "processed_docs.head()"
   ],
   "metadata": {
    "collapsed": false
   }
  },
  {
   "cell_type": "code",
   "execution_count": null,
   "outputs": [],
   "source": [
    "dictionary = gensim.corpora.Dictionary(processed_docs)"
   ],
   "metadata": {
    "collapsed": false,
    "pycharm": {
     "is_executing": true
    }
   }
  },
  {
   "cell_type": "code",
   "execution_count": 115,
   "outputs": [
    {
     "data": {
      "text/plain": "[(0, 'broadcast'),\n (1, 'communiti'),\n (2, 'decid'),\n (3, 'licenc'),\n (4, 'awar'),\n (5, 'defam'),\n (6, 'wit'),\n (7, 'call'),\n (8, 'infrastructur'),\n (9, 'protect')]"
     },
     "execution_count": 115,
     "metadata": {},
     "output_type": "execute_result"
    }
   ],
   "source": [
    "[(k, v) for i, (k, v) in enumerate(dictionary.iteritems()) if i < 10]"
   ],
   "metadata": {
    "collapsed": false
   }
  },
  {
   "cell_type": "code",
   "execution_count": 116,
   "outputs": [],
   "source": [
    "'''\n",
    "Gensim filter_extremes\n",
    "\n",
    "Filter out tokens that:\n",
    "    appear in less than 15 documents (absolute number) or\n",
    "    more than 0.5 documents (fraction of total corpus size, not absolute number).\n",
    "\n",
    "After the above two steps, keep only the first 100000 most frequent tokens.\n",
    "'''\n",
    "\n",
    "NO_BELOW = 15\n",
    "NO_ABOVE = 0.5\n",
    "KEEP_N = 100000\n",
    "\n",
    "dictionary.filter_extremes(no_below=NO_BELOW, no_above=NO_ABOVE, keep_n=KEEP_N)"
   ],
   "metadata": {
    "collapsed": false
   }
  },
  {
   "cell_type": "code",
   "execution_count": 118,
   "outputs": [
    {
     "data": {
      "text/plain": "[(162, 1), (240, 1), (292, 1), (589, 1), (838, 1), (3571, 1), (3572, 1)]"
     },
     "execution_count": 118,
     "metadata": {},
     "output_type": "execute_result"
    }
   ],
   "source": [
    "bow_corpus = [dictionary.doc2bow(doc) for doc in processed_docs]\n",
    "bow_corpus[4310]"
   ],
   "metadata": {
    "collapsed": false
   }
  },
  {
   "cell_type": "code",
   "execution_count": null,
   "outputs": [],
   "source": [],
   "metadata": {
    "collapsed": false
   }
  },
  {
   "cell_type": "code",
   "execution_count": null,
   "outputs": [],
   "source": [],
   "metadata": {
    "collapsed": false
   }
  },
  {
   "cell_type": "code",
   "execution_count": null,
   "outputs": [],
   "source": [],
   "metadata": {
    "collapsed": false
   }
  },
  {
   "cell_type": "code",
   "execution_count": null,
   "outputs": [],
   "source": [],
   "metadata": {
    "collapsed": false
   }
  },
  {
   "cell_type": "code",
   "execution_count": null,
   "outputs": [],
   "source": [],
   "metadata": {
    "collapsed": false
   }
  },
  {
   "cell_type": "markdown",
   "source": [
    "## EDA"
   ],
   "metadata": {
    "collapsed": false
   }
  },
  {
   "cell_type": "code",
   "execution_count": 77,
   "outputs": [
    {
     "data": {
      "text/plain": "<Figure size 640x480 with 1 Axes>",
      "image/png": "[encoded data removed]"
     },
     "metadata": {},
     "output_type": "display_data"
    }
   ],
   "source": [
    "# bar plot of number of headlines per year\n",
    "headlines_per_year = df['publish_year'].value_counts()\n",
    "\n",
    "plt.bar(headlines_per_year.index, headlines_per_year, width=0.5)\n",
    "plt.xticks(headlines_per_year.index, rotation=90)\n",
    "plt.title('Number of headlines per year')\n",
    "plt.show()"
   ],
   "metadata": {
    "collapsed": false
   }
  },
  {
   "cell_type": "code",
   "execution_count": 81,
   "outputs": [
    {
     "data": {
      "text/plain": "<Figure size 640x480 with 1 Axes>",
      "image/png": "[encoded data removed]"
     },
     "metadata": {},
     "output_type": "display_data"
    }
   ],
   "source": [
    "# bar plot of number of headlines per month\n",
    "headlines_per_month = df['publish_month'].value_counts()\n",
    "\n",
    "plt.bar(headlines_per_month.index, headlines_per_month, width=0.5)\n",
    "plt.xticks(headlines_per_month.index)\n",
    "plt.title('Number of headlines per month')\n",
    "plt.show()"
   ],
   "metadata": {
    "collapsed": false
   }
  },
  {
   "cell_type": "code",
   "execution_count": null,
   "outputs": [],
   "source": [],
   "metadata": {
    "collapsed": false
   }
  },
  {
   "cell_type": "code",
   "execution_count": null,
   "outputs": [],
   "source": [],
   "metadata": {
    "collapsed": false
   }
  },
  {
   "cell_type": "code",
   "execution_count": null,
   "outputs": [],
   "source": [],
   "metadata": {
    "collapsed": false
   }
  },
  {
   "cell_type": "code",
   "execution_count": null,
   "outputs": [],
   "source": [],
   "metadata": {
    "collapsed": false
   }
  },
  {
   "cell_type": "code",
   "execution_count": null,
   "outputs": [],
   "source": [],
   "metadata": {
    "collapsed": false
   }
  },
  {
   "cell_type": "code",
   "execution_count": null,
   "outputs": [],
   "source": [],
   "metadata": {
    "collapsed": false
   }
  },
  {
   "cell_type": "markdown",
   "source": [
    "---\n",
    "# Part 2 - Topic modeling\n",
    "Attempt at least one topic modeling method of your choice to cluster the headlines into topics.\n",
    "1. Since we cannot determine the number of topics in advance, experiment sensibly to assess a reasonable amount of topics.\n",
    "2. Devise a method (either computationally, graphically, or both) to decide about the number of topics, and then match headlines to topics.\n",
    "3. Try to estimate somehow the matching error."
   ],
   "metadata": {
    "collapsed": false
   }
  },
  {
   "cell_type": "code",
   "execution_count": 39,
   "outputs": [],
   "source": [],
   "metadata": {
    "collapsed": false
   }
  },
  {
   "cell_type": "markdown",
   "source": [
    "---\n",
    "# Part 3 - Bonus\n",
    "Compare the method with an additional topic modeling method."
   ],
   "metadata": {
    "collapsed": false
   },
   "execution_count": 0
  },
  {
   "cell_type": "code",
   "execution_count": 39,
   "outputs": [],
   "source": [],
   "metadata": {
    "collapsed": false
   }
  }
 ],
 "metadata": {
  "kernelspec": {
   "display_name": "Python 3",
   "language": "python",
   "name": "python3"
  },
  "language_info": {
   "codemirror_mode": {
    "name": "ipython",
    "version": 2
   },
   "file_extension": ".py",
   "mimetype": "text/x-python",
   "name": "python",
   "nbconvert_exporter": "python",
   "pygments_lexer": "ipython2",
   "version": "2.7.6"
  }
 },
 "nbformat": 4,
 "nbformat_minor": 0
}
